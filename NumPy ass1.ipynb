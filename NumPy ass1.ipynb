{
 "cells": [
  {
   "cell_type": "code",
   "execution_count": 1,
   "id": "02fb0f5e",
   "metadata": {},
   "outputs": [
    {
     "data": {
      "text/plain": [
       "array([0, 0, 0, 0, 1, 0, 0, 0, 0, 0])"
      ]
     },
     "execution_count": 1,
     "metadata": {},
     "output_type": "execute_result"
    }
   ],
   "source": [
    "# 1. Create a null vector of size 10 but the fifth value which is 1.\n",
    "\n",
    "import numpy as np\n",
    "x = np.zeros(10, dtype=int)\n",
    "x[4] = 1  \n",
    "x"
   ]
  },
  {
   "cell_type": "code",
   "execution_count": 2,
   "id": "e8c41dcd",
   "metadata": {},
   "outputs": [
    {
     "data": {
      "text/plain": [
       "array([10, 11, 12, 13, 14, 15, 16, 17, 18, 19, 20, 21, 22, 23, 24, 25, 26,\n",
       "       27, 28, 29, 30, 31, 32, 33, 34, 35, 36, 37, 38, 39, 40, 41, 42, 43,\n",
       "       44, 45, 46, 47, 48, 49])"
      ]
     },
     "execution_count": 2,
     "metadata": {},
     "output_type": "execute_result"
    }
   ],
   "source": [
    "# 2. Create a vector with values ranging from 10 to 49.\n",
    "\n",
    "a = np.arange(10,50)\n",
    "a"
   ]
  },
  {
   "cell_type": "code",
   "execution_count": 3,
   "id": "39dbfe3a",
   "metadata": {},
   "outputs": [
    {
     "data": {
      "text/plain": [
       "array([[0, 1, 2],\n",
       "       [3, 4, 5],\n",
       "       [6, 7, 8]])"
      ]
     },
     "execution_count": 3,
     "metadata": {},
     "output_type": "execute_result"
    }
   ],
   "source": [
    "# 3. Create a 3x3 matrix with values ranging from 0 to 8\n",
    "\n",
    "a = np.arange(0,9).reshape(3,3)\n",
    "a"
   ]
  },
  {
   "cell_type": "code",
   "execution_count": 4,
   "id": "3339c723",
   "metadata": {},
   "outputs": [
    {
     "name": "stdout",
     "output_type": "stream",
     "text": [
      "(array([0, 1, 4], dtype=int64),)\n"
     ]
    }
   ],
   "source": [
    "# 4. Find indices of non-zero elements from [1,2,0,0,4,0]\n",
    "\n",
    "nz=np.nonzero([1,2,0,0,4,0])\n",
    "print(nz)"
   ]
  },
  {
   "cell_type": "code",
   "execution_count": 5,
   "id": "cf752397",
   "metadata": {},
   "outputs": [
    {
     "name": "stdout",
     "output_type": "stream",
     "text": [
      "[[0.5082067  0.48346424 0.68890015 0.44608783 0.76810448 0.77643399\n",
      "  0.52893629 0.00433219 0.68231812 0.3676011 ]\n",
      " [0.48272317 0.35686254 0.71351408 0.84514001 0.21896343 0.63937724\n",
      "  0.36602424 0.27577057 0.4839252  0.99236029]\n",
      " [0.31090044 0.01268357 0.17429766 0.34720666 0.74726995 0.37915597\n",
      "  0.41237697 0.25240425 0.81006353 0.28754989]\n",
      " [0.37478775 0.64830733 0.236485   0.77320228 0.55670492 0.75323389\n",
      "  0.83677253 0.76452253 0.31350887 0.50455642]\n",
      " [0.62321997 0.00292946 0.92788457 0.92313517 0.8979687  0.49182675\n",
      "  0.34157385 0.96510602 0.07402044 0.25930747]\n",
      " [0.54600843 0.07386616 0.54542468 0.4380972  0.74744777 0.32060277\n",
      "  0.44397855 0.2630437  0.72125796 0.23567248]\n",
      " [0.52118852 0.08741689 0.48730778 0.71305283 0.7102839  0.40911501\n",
      "  0.16293471 0.08318214 0.772381   0.52342826]\n",
      " [0.83544851 0.17517183 0.08306567 0.91796464 0.32097022 0.31749426\n",
      "  0.38971629 0.81393377 0.33256326 0.06739434]\n",
      " [0.73506119 0.3860679  0.67651003 0.50990349 0.71783404 0.06702986\n",
      "  0.43781489 0.40049097 0.45535381 0.47519742]\n",
      " [0.6591585  0.14741645 0.20486344 0.52435078 0.62630559 0.32640097\n",
      "  0.34425197 0.16079769 0.73671263 0.82534664]]\n",
      "Minimum and Maximum Values:\n",
      "0.0029294630394302024 0.9923602921826084\n"
     ]
    }
   ],
   "source": [
    "# 5. Create a 10x10 array with random values and find the minimum and maximum values.\n",
    "\n",
    "import numpy as np\n",
    "x = np.random.random((10,10))\n",
    "print(x) \n",
    "xmin, xmax = x.min(), x.max()\n",
    "print(\"Minimum and Maximum Values:\")\n",
    "print(xmin, xmax)"
   ]
  },
  {
   "cell_type": "code",
   "execution_count": 6,
   "id": "baa3ac65",
   "metadata": {},
   "outputs": [
    {
     "name": "stdout",
     "output_type": "stream",
     "text": [
      "[0.44491948 0.97241457 0.53815034 0.3509213  0.14373093 0.45455167\n",
      " 0.05109495 0.11658423 0.13215342 0.73164228 0.25826359 0.71874044\n",
      " 0.08129289 0.75212464 0.76202406 0.31731798 0.8565482  0.06381241\n",
      " 0.18678041 0.90897456 0.68250945 0.11776202 0.82993587 0.43264266\n",
      " 0.68167029 0.93683668 0.57239294 0.80852114 0.51592785 0.39308489]\n",
      "mean value : 0.49377753777619565\n"
     ]
    }
   ],
   "source": [
    "# 6. Create a random vector of size 30 and find the mean value.\n",
    "\n",
    "x = np.random.rand(30)\n",
    "print(x)\n",
    "x_mean = x.mean()\n",
    "print(\"mean value :\",x_mean)"
   ]
  },
  {
   "cell_type": "code",
   "execution_count": null,
   "id": "dd6cb058",
   "metadata": {},
   "outputs": [],
   "source": []
  }
 ],
 "metadata": {
  "kernelspec": {
   "display_name": "Python 3 (ipykernel)",
   "language": "python",
   "name": "python3"
  },
  "language_info": {
   "codemirror_mode": {
    "name": "ipython",
    "version": 3
   },
   "file_extension": ".py",
   "mimetype": "text/x-python",
   "name": "python",
   "nbconvert_exporter": "python",
   "pygments_lexer": "ipython3",
   "version": "3.9.13"
  }
 },
 "nbformat": 4,
 "nbformat_minor": 5
}
